{
 "cells": [
  {
   "cell_type": "code",
   "execution_count": null,
   "id": "e415c8f5",
   "metadata": {},
   "outputs": [],
   "source": [
    "DATA_PATH = 'data/no_exogenous/data.csv'\n",
    "FREQ = 'h'\n",
    "YEAR = 2021\n",
    "OUTPUT_PATH = f'data/predictions_prophet_{YEAR}.csv'\n",
    "HOLIDAYS = [\"01-01\",\"04-21\",\"05-01\",\"09-07\",\"10-12\",\"11-02\",\"11-15\",\"11-20\",\"12-25\"]"
   ]
  },
  {
   "cell_type": "code",
   "execution_count": null,
   "id": "9675acca",
   "metadata": {},
   "outputs": [],
   "source": [
    "import pandas as pd\n",
    "from prophet import Prophet"
   ]
  },
  {
   "cell_type": "code",
   "execution_count": null,
   "id": "8f8cb39f",
   "metadata": {},
   "outputs": [],
   "source": [
    "data = pd.read_csv(DATA_PATH, parse_dates=['timestamp'])\n",
    "data = data.set_index('timestamp').asfreq(FREQ).dropna()\n",
    "data['year'] = data.index.year\n",
    "\n",
    "train = data[(data['year'] < YEAR) & (data['year'] > YEAR - 5)]\n",
    "test = data[data['year'] == YEAR]\n",
    "\n",
    "h = pd.to_datetime(HOLIDAYS, format='%m-%d')\n",
    "hol = pd.DataFrame({'holiday':'h','ds':h})\n"
   ]
  },
  {
   "cell_type": "code",
   "execution_count": null,
   "id": "bf5b6e89",
   "metadata": {},
   "outputs": [],
   "source": [
    "df = train.reset_index()[['timestamp','value']].rename(columns={'timestamp':'ds','value':'y'})\n",
    "m = Prophet(yearly_seasonality=True,\n",
    "            weekly_seasonality=True,\n",
    "            daily_seasonality=True,\n",
    "            seasonality_mode='multiplicative',\n",
    "            changepoint_prior_scale=0.1,\n",
    "            seasonality_prior_scale=10,\n",
    "            holidays_prior_scale=10,\n",
    "            holidays=hol,\n",
    "            mcmc_samples=200)\n",
    "m.add_seasonality(name='monthly', period=30.5, fourier_order=10)\n",
    "m.fit(df)"
   ]
  },
  {
   "cell_type": "code",
   "execution_count": null,
   "id": "f7e23699",
   "metadata": {},
   "outputs": [],
   "source": [
    "future = m.make_future_dataframe(periods=len(test), freq=FREQ)\n",
    "fc = m.predict(future)\n",
    "y_pred = fc['yhat'].iloc[-len(test):].values\n"
   ]
  },
  {
   "cell_type": "code",
   "execution_count": null,
   "id": "e310e3d4",
   "metadata": {},
   "outputs": [],
   "source": [
    "out = test.copy()\n",
    "out['value'] = y_pred\n",
    "out.to_csv(OUTPUT_PATH, index=False)"
   ]
  }
 ],
 "metadata": {
  "language_info": {
   "name": "python"
  }
 },
 "nbformat": 4,
 "nbformat_minor": 5
}
