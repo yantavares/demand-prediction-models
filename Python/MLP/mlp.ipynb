{
 "cells": [
  {
   "cell_type": "code",
   "execution_count": null,
   "id": "9b6e2113",
   "metadata": {},
   "outputs": [],
   "source": [
    "DATA_PATH = 'data/no_exogenous/data.csv'\n",
    "FREQ = 'h'\n",
    "YEAR = 2021\n",
    "OUTPUT_PATH = f'data/predictions_mlp_{YEAR}.csv'"
   ]
  },
  {
   "cell_type": "code",
   "execution_count": null,
   "id": "2ede82a0",
   "metadata": {},
   "outputs": [],
   "source": [
    "import pandas as pd\n",
    "from sklearn.preprocessing import MinMaxScaler\n",
    "from sklearn.neural_network import MLPRegressor"
   ]
  },
  {
   "cell_type": "code",
   "execution_count": null,
   "id": "6fa31192",
   "metadata": {},
   "outputs": [],
   "source": [
    "data = pd.read_csv(DATA_PATH, parse_dates=['timestamp'])\n",
    "data = data.set_index('timestamp').asfreq(FREQ).dropna()\n",
    "data['year'] = data.index.year\n",
    "\n",
    "train = data[(data['year'] < YEAR) & (data['year'] > YEAR - 5)]\n",
    "test = data[data['year'] == YEAR]\n",
    "\n",
    "X_train = train[['hour','day_of_week','month','year','is_weekend','quarter','is_holiday']]\n",
    "y_train = train['value']\n",
    "X_test = test[['hour','day_of_week','month','year','is_weekend','quarter','is_holiday']]\n",
    "\n",
    "X_scaler = MinMaxScaler().fit(X_train)\n",
    "y_scaler = MinMaxScaler().fit(y_train.values.reshape(-1,1))\n",
    "\n",
    "X_train_s = X_scaler.transform(X_train)\n",
    "y_train_s = y_scaler.transform(y_train.values.reshape(-1,1)).ravel()"
   ]
  },
  {
   "cell_type": "code",
   "execution_count": null,
   "id": "2b24f66d",
   "metadata": {},
   "outputs": [],
   "source": [
    "model = MLPRegressor(hidden_layer_sizes=(1024,512,128,32,8),\n",
    "                     max_iter=500,\n",
    "                     learning_rate='adaptive',\n",
    "                     learning_rate_init=0.001,\n",
    "                     tol=1e-6,\n",
    "                     random_state=42)\n",
    "model.fit(X_train_s, y_train_s)"
   ]
  },
  {
   "cell_type": "code",
   "execution_count": null,
   "id": "7843d9b7",
   "metadata": {},
   "outputs": [],
   "source": [
    "X_test_s = X_scaler.transform(X_test)\n",
    "y_pred = y_scaler.inverse_transform(model.predict(X_test_s).reshape(-1,1)).flatten()\n"
   ]
  },
  {
   "cell_type": "code",
   "execution_count": null,
   "id": "dfe9659c",
   "metadata": {},
   "outputs": [],
   "source": [
    "out = test.copy()\n",
    "out['value'] = y_pred\n",
    "out.to_csv(OUTPUT_PATH, index=False)"
   ]
  }
 ],
 "metadata": {
  "kernelspec": {
   "display_name": "ai",
   "language": "python",
   "name": "python3"
  },
  "language_info": {
   "name": "python",
   "version": "3.12.8"
  }
 },
 "nbformat": 4,
 "nbformat_minor": 5
}
