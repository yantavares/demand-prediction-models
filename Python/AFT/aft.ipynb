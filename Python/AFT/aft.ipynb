{
 "cells": [
  {
   "cell_type": "code",
   "execution_count": null,
   "id": "54aeebf0",
   "metadata": {},
   "outputs": [],
   "source": [
    "DATA_PATH = 'data/data_total_extended.csv'\n",
    "FREQ = 'h'\n",
    "YEAR = 2021\n",
    "SEASONAL_PERIODS = [24,168,24*365]\n",
    "FOURIER_ORDER = 7\n",
    "ORDER = (4,1,4)\n",
    "OUTPUT_PATH = f'data/predictions_aft_{YEAR}.csv'"
   ]
  },
  {
   "cell_type": "code",
   "execution_count": null,
   "id": "9bf46ce0",
   "metadata": {},
   "outputs": [],
   "source": [
    "import numpy as np\n",
    "import pandas as pd\n",
    "from statsmodels.tsa.arima.model import ARIMA"
   ]
  },
  {
   "cell_type": "code",
   "execution_count": null,
   "id": "2bcfb1d6",
   "metadata": {},
   "outputs": [],
   "source": [
    "data = pd.read_csv(DATA_PATH, parse_dates=['timestamp'])\n",
    "data = data.set_index('timestamp').asfreq(FREQ).dropna()\n",
    "data['year'] = data.index.year\n",
    "\n",
    "train = data[(data['year'] < YEAR) & (data['year'] > YEAR - 5)]\n",
    "test = data[data['year'] == YEAR]\n",
    "\n",
    "ts = train['value']\n",
    "t = np.arange(len(ts))\n",
    "exo = pd.DataFrame({f'{p}_sin_{i}': np.sin(2*np.pi*i*t/p)\n",
    "                    for p in SEASONAL_PERIODS for i in range(1,FOURIER_ORDER+1)},\n",
    "                   index=ts.index)\n",
    "exo = exo.assign(**{f'{p}_cos_{i}': np.cos(2*np.pi*i*t/p)\n",
    "                    for p in SEASONAL_PERIODS for i in range(1,FOURIER_ORDER+1)})\n"
   ]
  },
  {
   "cell_type": "code",
   "execution_count": null,
   "id": "c910a3c0",
   "metadata": {},
   "outputs": [],
   "source": [
    "m = ARIMA(ts, order=ORDER, exog=exo).fit()\n",
    "\n",
    "tf = np.arange(len(ts), len(ts)+len(test))\n",
    "exo_f = pd.DataFrame({f'{p}_sin_{i}': np.sin(2*np.pi*i*tf/p)\n",
    "                      for p in SEASONAL_PERIODS for i in range(1,FOURIER_ORDER+1)},\n",
    "                     index=test.index)\n",
    "exo_f = exo_f.assign(**{f'{p}_cos_{i}': np.cos(2*np.pi*i*tf/p)\n",
    "                         for p in SEASONAL_PERIODS for i in range(1,FOURIER_ORDER+1)})\n",
    "\n",
    "y_pred = m.forecast(steps=len(test), exog=exo_f).values\n"
   ]
  },
  {
   "cell_type": "code",
   "execution_count": null,
   "id": "50040255",
   "metadata": {},
   "outputs": [],
   "source": [
    "out = test.copy()\n",
    "out['value'] = y_pred\n",
    "out.to_csv(OUTPUT_PATH, index=False)"
   ]
  }
 ],
 "metadata": {
  "language_info": {
   "name": "python"
  }
 },
 "nbformat": 4,
 "nbformat_minor": 5
}
