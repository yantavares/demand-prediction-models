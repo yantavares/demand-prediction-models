{
 "cells": [
  {
   "cell_type": "code",
   "execution_count": null,
   "id": "90a711ef",
   "metadata": {},
   "outputs": [],
   "source": [
    "DATA_PATH = 'data/no_exogenous/data.csv'\n",
    "FREQ = 'h'\n",
    "YEAR = 2021\n",
    "OUTPUT_PATH = f'data/predictions_rf_{YEAR}.csv'\n",
    "MAX_DEPTH = 200\n",
    "N_ESTIMATORS = 1500"
   ]
  },
  {
   "cell_type": "code",
   "execution_count": null,
   "id": "5bf4cf8a",
   "metadata": {},
   "outputs": [],
   "source": [
    "import pandas as pd\n",
    "import multiprocessing as mp\n",
    "from sklearn.ensemble import RandomForestRegressor"
   ]
  },
  {
   "cell_type": "code",
   "execution_count": null,
   "id": "43784931",
   "metadata": {},
   "outputs": [],
   "source": [
    "data = (\n",
    "    pd.read_csv(DATA_PATH, parse_dates=['timestamp'])\n",
    "      .set_index('timestamp')\n",
    "      .asfreq(FREQ)\n",
    "      .dropna()\n",
    ")\n",
    "data['year'] = data.index.year\n",
    "\n",
    "train = data[(data['year'] < YEAR) & (data['year'] > YEAR - 5)]\n",
    "test  = data[data['year'] == YEAR]\n",
    "\n",
    "X_train = train[['hour', 'day_of_week', 'month', 'year', 'is_weekend', 'quarter', 'is_holiday']]\n",
    "y_train = train['value']\n",
    "X_test  = test[['hour', 'day_of_week', 'month', 'year', 'is_weekend', 'quarter', 'is_holiday']]"
   ]
  },
  {
   "cell_type": "code",
   "execution_count": null,
   "id": "379665b3",
   "metadata": {},
   "outputs": [],
   "source": [
    "model = RandomForestRegressor(\n",
    "    max_depth=MAX_DEPTH,\n",
    "    n_estimators=N_ESTIMATORS,\n",
    "    bootstrap=True,\n",
    "    oob_score=True,\n",
    "    n_jobs=mp.cpu_count() // 2,\n",
    "    random_state=42\n",
    ")\n",
    "model.fit(X_train, y_train)"
   ]
  },
  {
   "cell_type": "code",
   "execution_count": null,
   "id": "f17277b5",
   "metadata": {},
   "outputs": [],
   "source": [
    "y_pred = model.predict(X_test)\n"
   ]
  },
  {
   "cell_type": "code",
   "execution_count": null,
   "id": "f4d4032a",
   "metadata": {},
   "outputs": [],
   "source": [
    "out = test.copy()\n",
    "out['value'] = y_pred\n",
    "out.to_csv(OUTPUT_PATH, index=False)"
   ]
  }
 ],
 "metadata": {
  "language_info": {
   "name": "python"
  }
 },
 "nbformat": 4,
 "nbformat_minor": 5
}
