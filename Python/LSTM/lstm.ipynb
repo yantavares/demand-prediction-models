{
 "cells": [
  {
   "cell_type": "code",
   "execution_count": null,
   "id": "b1cddf41",
   "metadata": {},
   "outputs": [],
   "source": [
    "DATA_PATH = 'data/no_exogenous/data.csv'\n",
    "FREQ = 'h'\n",
    "YEAR = 2021\n",
    "LOOK_BACK = 36\n",
    "OUTPUT_PATH = f'data/predictions_lstm_{YEAR}.csv'"
   ]
  },
  {
   "cell_type": "code",
   "execution_count": null,
   "id": "8f4c555a",
   "metadata": {},
   "outputs": [],
   "source": [
    "import numpy as np\n",
    "import pandas as pd\n",
    "from sklearn.preprocessing import MinMaxScaler\n",
    "from tensorflow.keras.models import Sequential\n",
    "from tensorflow.keras.layers import LSTM, Dense, Dropout\n",
    "from tensorflow.keras.callbacks import EarlyStopping"
   ]
  },
  {
   "cell_type": "code",
   "execution_count": null,
   "id": "4a3a8730",
   "metadata": {},
   "outputs": [],
   "source": [
    "data = pd.read_csv(DATA_PATH, parse_dates=['timestamp'])\n",
    "data = data.set_index('timestamp').asfreq(FREQ).dropna()\n",
    "data['year'] = data.index.year\n",
    "\n",
    "train = data[(data['year'] < YEAR) & (data['year'] > YEAR - 5)]\n",
    "test = data[data['year'] == YEAR]\n",
    "\n",
    "X = train[['hour','day_of_week','month','year','is_weekend','quarter','is_holiday']]\n",
    "y = train['value']\n",
    "\n",
    "sf = MinMaxScaler().fit(X)\n",
    "st = MinMaxScaler().fit(y.values.reshape(-1,1))\n",
    "\n",
    "X_s = sf.transform(X)\n",
    "y_s = st.transform(y.values.reshape(-1,1)).ravel()\n",
    "\n",
    "def create_seq(arr, target, lb):\n",
    "    Xs, ys = [], []\n",
    "    for i in range(lb, len(arr)):\n",
    "        Xs.append(arr[i-lb:i])\n",
    "        ys.append(target[i])\n",
    "    return np.array(Xs), np.array(ys)\n",
    "\n",
    "X_seq, y_seq = create_seq(X_s, y_s, LOOK_BACK)\n"
   ]
  },
  {
   "cell_type": "code",
   "execution_count": null,
   "id": "a865f440",
   "metadata": {},
   "outputs": [],
   "source": [
    "n_feat = X.shape[1]\n",
    "model = Sequential()\n",
    "model.add(LSTM(200, return_sequences=True, input_shape=(LOOK_BACK, n_feat)))\n",
    "model.add(LSTM(100, return_sequences=True))\n",
    "model.add(LSTM(50))\n",
    "model.add(Dropout(0.2))\n",
    "model.add(Dense(1))\n",
    "model.compile(optimizer='adam', loss='mse')\n",
    "\n",
    "model.fit(X_seq, y_seq, epochs=200, batch_size=128, callbacks=[EarlyStopping(patience=15)], verbose=1)\n"
   ]
  },
  {
   "cell_type": "code",
   "execution_count": null,
   "id": "b6ac4ab1",
   "metadata": {},
   "outputs": [],
   "source": [
    "X_test = test[['hour','day_of_week','month','year','is_weekend','quarter','is_holiday']]\n",
    "X_ts = sf.transform(X_test)\n",
    "X_tseq, _ = create_seq(X_ts, st.transform(test['value'].values.reshape(-1,1)).ravel(), LOOK_BACK)\n",
    "\n",
    "y_pred_s = model.predict(X_tseq)\n",
    "y_pred = st.inverse_transform(y_pred_s).flatten()"
   ]
  },
  {
   "cell_type": "code",
   "execution_count": null,
   "id": "aa04acf9",
   "metadata": {},
   "outputs": [],
   "source": [
    "out = test.iloc[LOOK_BACK:].copy()\n",
    "out['value'] = y_pred\n",
    "out.to_csv(OUTPUT_PATH, index=False)"
   ]
  }
 ],
 "metadata": {
  "kernelspec": {
   "display_name": "ai",
   "language": "python",
   "name": "python3"
  },
  "language_info": {
   "name": "python",
   "version": "3.12.8"
  }
 },
 "nbformat": 4,
 "nbformat_minor": 5
}
